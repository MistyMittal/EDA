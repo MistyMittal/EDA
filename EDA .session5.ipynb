{
 "cells": [
  {
   "cell_type": "code",
   "execution_count": 2,
   "id": "db6eb8b9-1c4a-497f-83cc-7b15d54ac813",
   "metadata": {},
   "outputs": [],
   "source": [
    "import pandas as pd\n",
    "import numpy as np\n",
    "import matplotlib as plt\n",
    "import seaborn as sns\n"
   ]
  },
  {
   "cell_type": "code",
   "execution_count": 3,
   "id": "2ad58584-f62e-44dd-80d5-c2c2ff7f40a6",
   "metadata": {},
   "outputs": [
    {
     "data": {
      "text/html": [
       "<div>\n",
       "<style scoped>\n",
       "    .dataframe tbody tr th:only-of-type {\n",
       "        vertical-align: middle;\n",
       "    }\n",
       "\n",
       "    .dataframe tbody tr th {\n",
       "        vertical-align: top;\n",
       "    }\n",
       "\n",
       "    .dataframe thead th {\n",
       "        text-align: right;\n",
       "    }\n",
       "</style>\n",
       "<table border=\"1\" class=\"dataframe\">\n",
       "  <thead>\n",
       "    <tr style=\"text-align: right;\">\n",
       "      <th></th>\n",
       "      <th>case_id</th>\n",
       "      <th>continent</th>\n",
       "      <th>education_of_employee</th>\n",
       "      <th>has_job_experience</th>\n",
       "      <th>requires_job_training</th>\n",
       "      <th>no_of_employees</th>\n",
       "      <th>yr_of_estab</th>\n",
       "      <th>region_of_employment</th>\n",
       "      <th>prevailing_wage</th>\n",
       "      <th>unit_of_wage</th>\n",
       "      <th>full_time_position</th>\n",
       "      <th>case_status</th>\n",
       "    </tr>\n",
       "  </thead>\n",
       "  <tbody>\n",
       "    <tr>\n",
       "      <th>0</th>\n",
       "      <td>EZYV01</td>\n",
       "      <td>Asia</td>\n",
       "      <td>High School</td>\n",
       "      <td>N</td>\n",
       "      <td>N</td>\n",
       "      <td>14513</td>\n",
       "      <td>2007</td>\n",
       "      <td>West</td>\n",
       "      <td>592.2029</td>\n",
       "      <td>Hour</td>\n",
       "      <td>Y</td>\n",
       "      <td>Denied</td>\n",
       "    </tr>\n",
       "    <tr>\n",
       "      <th>1</th>\n",
       "      <td>EZYV02</td>\n",
       "      <td>Asia</td>\n",
       "      <td>Master's</td>\n",
       "      <td>Y</td>\n",
       "      <td>N</td>\n",
       "      <td>2412</td>\n",
       "      <td>2002</td>\n",
       "      <td>Northeast</td>\n",
       "      <td>83425.6500</td>\n",
       "      <td>Year</td>\n",
       "      <td>Y</td>\n",
       "      <td>Certified</td>\n",
       "    </tr>\n",
       "    <tr>\n",
       "      <th>2</th>\n",
       "      <td>EZYV03</td>\n",
       "      <td>Asia</td>\n",
       "      <td>Bachelor's</td>\n",
       "      <td>N</td>\n",
       "      <td>Y</td>\n",
       "      <td>44444</td>\n",
       "      <td>2008</td>\n",
       "      <td>West</td>\n",
       "      <td>122996.8600</td>\n",
       "      <td>Year</td>\n",
       "      <td>Y</td>\n",
       "      <td>Denied</td>\n",
       "    </tr>\n",
       "  </tbody>\n",
       "</table>\n",
       "</div>"
      ],
      "text/plain": [
       "  case_id continent education_of_employee has_job_experience  \\\n",
       "0  EZYV01      Asia           High School                  N   \n",
       "1  EZYV02      Asia              Master's                  Y   \n",
       "2  EZYV03      Asia            Bachelor's                  N   \n",
       "\n",
       "  requires_job_training  no_of_employees  yr_of_estab region_of_employment  \\\n",
       "0                     N            14513         2007                 West   \n",
       "1                     N             2412         2002            Northeast   \n",
       "2                     Y            44444         2008                 West   \n",
       "\n",
       "   prevailing_wage unit_of_wage full_time_position case_status  \n",
       "0         592.2029         Hour                  Y      Denied  \n",
       "1       83425.6500         Year                  Y   Certified  \n",
       "2      122996.8600         Year                  Y      Denied  "
      ]
     },
     "execution_count": 3,
     "metadata": {},
     "output_type": "execute_result"
    }
   ],
   "source": [
    "visa=pd.read_csv(r'C:\\Users\\user\\Documents\\naresh it 2\\Desktop\\naresh it\\data files\\visadataset_file.csv')\n",
    "visa.head(3)\n"
   ]
  },
  {
   "cell_type": "markdown",
   "id": "c2664d79-659c-4e94-bd04-724784f5d905",
   "metadata": {},
   "source": [
    "**select the numerical columns**"
   ]
  },
  {
   "cell_type": "code",
   "execution_count": 4,
   "id": "a9266eef-8dd4-4e92-aeb1-8dcde15df8a2",
   "metadata": {},
   "outputs": [
    {
     "data": {
      "text/plain": [
       "Index(['no_of_employees', 'yr_of_estab', 'prevailing_wage'], dtype='object')"
      ]
     },
     "execution_count": 4,
     "metadata": {},
     "output_type": "execute_result"
    }
   ],
   "source": [
    "visa.select_dtypes(exclude='object').columns"
   ]
  },
  {
   "cell_type": "markdown",
   "id": "dd9e59a9-d20f-4991-b019-4daf75d531b1",
   "metadata": {},
   "source": [
    "**'prevailing_wage'**"
   ]
  },
  {
   "cell_type": "markdown",
   "id": "8dcfd038-113a-40fd-9097-8c5072ca424d",
   "metadata": {},
   "source": [
    "- len\n",
    "- max\n",
    "- min\n",
    "- mean\n",
    "- median\n",
    "- std\n",
    "- 75%\n",
    "- 50%\n",
    "- 25%"
   ]
  },
  {
   "cell_type": "markdown",
   "id": "643cb5d8-4087-4c84-9e33-774b6db172d6",
   "metadata": {},
   "source": [
    "**count or len**"
   ]
  },
  {
   "cell_type": "code",
   "execution_count": 5,
   "id": "f5412d4d-5133-466c-998d-e246ca18044a",
   "metadata": {},
   "outputs": [
    {
     "data": {
      "text/plain": [
       "25480"
      ]
     },
     "execution_count": 5,
     "metadata": {},
     "output_type": "execute_result"
    }
   ],
   "source": [
    "len(visa['prevailing_wage'])\n"
   ]
  },
  {
   "cell_type": "markdown",
   "id": "da747af8-8295-4312-80d0-0349915a4a6e",
   "metadata": {},
   "source": [
    "**min or max**"
   ]
  },
  {
   "cell_type": "code",
   "execution_count": 6,
   "id": "5ffb84b0-f293-42fa-9fe2-17b1a6f677ce",
   "metadata": {},
   "outputs": [
    {
     "data": {
      "text/plain": [
       "319210.27"
      ]
     },
     "execution_count": 6,
     "metadata": {},
     "output_type": "execute_result"
    }
   ],
   "source": [
    "max(visa['prevailing_wage'])# keywords"
   ]
  },
  {
   "cell_type": "code",
   "execution_count": 7,
   "id": "856590a5-9b66-49f1-b4cf-aaa7b3a3c386",
   "metadata": {},
   "outputs": [
    {
     "data": {
      "text/plain": [
       "319210.27"
      ]
     },
     "execution_count": 7,
     "metadata": {},
     "output_type": "execute_result"
    }
   ],
   "source": [
    "(visa['prevailing_wage']).max()# pandas"
   ]
  },
  {
   "cell_type": "code",
   "execution_count": 8,
   "id": "f6542dce-b330-46cd-b63a-16ebc619208d",
   "metadata": {},
   "outputs": [
    {
     "data": {
      "text/plain": [
       "319210.27"
      ]
     },
     "execution_count": 8,
     "metadata": {},
     "output_type": "execute_result"
    }
   ],
   "source": [
    "np.max(visa['prevailing_wage'])# numpy"
   ]
  },
  {
   "cell_type": "code",
   "execution_count": 9,
   "id": "c58ecc10-b46e-4bcd-8c7e-29851bd86b50",
   "metadata": {},
   "outputs": [
    {
     "data": {
      "text/plain": [
       "2.1367"
      ]
     },
     "execution_count": 9,
     "metadata": {},
     "output_type": "execute_result"
    }
   ],
   "source": [
    "min(visa['prevailing_wage'])\n"
   ]
  },
  {
   "cell_type": "code",
   "execution_count": 10,
   "id": "278b3d8f-bef1-437d-9089-cf77982b74da",
   "metadata": {},
   "outputs": [
    {
     "data": {
      "text/plain": [
       "2.1367"
      ]
     },
     "execution_count": 10,
     "metadata": {},
     "output_type": "execute_result"
    }
   ],
   "source": [
    "(visa['prevailing_wage']).min()"
   ]
  },
  {
   "cell_type": "code",
   "execution_count": 11,
   "id": "b8e66bad-ac6f-4e19-b0b6-159c63e74a39",
   "metadata": {},
   "outputs": [
    {
     "data": {
      "text/plain": [
       "2.1367"
      ]
     },
     "execution_count": 11,
     "metadata": {},
     "output_type": "execute_result"
    }
   ],
   "source": [
    "np.min(visa['prevailing_wage'])\n"
   ]
  },
  {
   "cell_type": "markdown",
   "id": "dfe688a0-9560-48ee-a3e6-df9cc6e93964",
   "metadata": {},
   "source": [
    "**mean**"
   ]
  },
  {
   "cell_type": "code",
   "execution_count": 13,
   "id": "d4689098-d485-403f-90fb-790905a8cd7b",
   "metadata": {},
   "outputs": [
    {
     "data": {
      "text/plain": [
       "74455.81459209183"
      ]
     },
     "execution_count": 13,
     "metadata": {},
     "output_type": "execute_result"
    }
   ],
   "source": [
    "(visa['prevailing_wage']).mean()"
   ]
  },
  {
   "cell_type": "code",
   "execution_count": 14,
   "id": "b136e393-4538-4355-9fe5-92165f93d5fd",
   "metadata": {},
   "outputs": [
    {
     "data": {
      "text/plain": [
       "74455.81459209183"
      ]
     },
     "execution_count": 14,
     "metadata": {},
     "output_type": "execute_result"
    }
   ],
   "source": [
    "np.mean((visa['prevailing_wage']))"
   ]
  },
  {
   "cell_type": "markdown",
   "id": "93a005e4-ccca-4c03-b00d-2a3b0e354143",
   "metadata": {},
   "source": [
    "**median**"
   ]
  },
  {
   "cell_type": "code",
   "execution_count": 15,
   "id": "30364e6f-c445-4caa-b348-e584820accc1",
   "metadata": {},
   "outputs": [
    {
     "data": {
      "text/plain": [
       "70308.20999999999"
      ]
     },
     "execution_count": 15,
     "metadata": {},
     "output_type": "execute_result"
    }
   ],
   "source": [
    "(visa['prevailing_wage']).median()\n"
   ]
  },
  {
   "cell_type": "markdown",
   "id": "aad333d5-9b97-4326-8e74-efedfcbf36ac",
   "metadata": {},
   "source": [
    "**std**"
   ]
  },
  {
   "cell_type": "code",
   "execution_count": 16,
   "id": "ce72e1a6-e089-40b2-9c2f-010e178b8311",
   "metadata": {},
   "outputs": [
    {
     "data": {
      "text/plain": [
       "52815.94232687357"
      ]
     },
     "execution_count": 16,
     "metadata": {},
     "output_type": "execute_result"
    }
   ],
   "source": [
    "(visa['prevailing_wage']).std()"
   ]
  },
  {
   "cell_type": "code",
   "execution_count": 17,
   "id": "d673ae54-148e-45bf-9ebf-9f2fcc18d530",
   "metadata": {},
   "outputs": [
    {
     "data": {
      "text/plain": [
       "52814.90589711402"
      ]
     },
     "execution_count": 17,
     "metadata": {},
     "output_type": "execute_result"
    }
   ],
   "source": [
    "np.std(visa['prevailing_wage'])"
   ]
  },
  {
   "cell_type": "markdown",
   "id": "800b448d-a1fb-478f-b73e-f1fd23e05ccd",
   "metadata": {},
   "source": [
    "**mode is not good option because it is numerical variable**"
   ]
  },
  {
   "cell_type": "code",
   "execution_count": 18,
   "id": "8cbdd9fc-5bff-4d1c-ac07-14aba51cb133",
   "metadata": {},
   "outputs": [
    {
     "data": {
      "text/html": [
       "<div>\n",
       "<style scoped>\n",
       "    .dataframe tbody tr th:only-of-type {\n",
       "        vertical-align: middle;\n",
       "    }\n",
       "\n",
       "    .dataframe tbody tr th {\n",
       "        vertical-align: top;\n",
       "    }\n",
       "\n",
       "    .dataframe thead th {\n",
       "        text-align: right;\n",
       "    }\n",
       "</style>\n",
       "<table border=\"1\" class=\"dataframe\">\n",
       "  <thead>\n",
       "    <tr style=\"text-align: right;\">\n",
       "      <th></th>\n",
       "      <th>prevailing_wage</th>\n",
       "    </tr>\n",
       "  </thead>\n",
       "  <tbody>\n",
       "    <tr>\n",
       "      <th>count</th>\n",
       "      <td>25480.00</td>\n",
       "    </tr>\n",
       "    <tr>\n",
       "      <th>max</th>\n",
       "      <td>319210.27</td>\n",
       "    </tr>\n",
       "    <tr>\n",
       "      <th>min</th>\n",
       "      <td>2.14</td>\n",
       "    </tr>\n",
       "    <tr>\n",
       "      <th>mean</th>\n",
       "      <td>74455.81</td>\n",
       "    </tr>\n",
       "    <tr>\n",
       "      <th>media</th>\n",
       "      <td>70308.21</td>\n",
       "    </tr>\n",
       "    <tr>\n",
       "      <th>std</th>\n",
       "      <td>52815.94</td>\n",
       "    </tr>\n",
       "  </tbody>\n",
       "</table>\n",
       "</div>"
      ],
      "text/plain": [
       "       prevailing_wage\n",
       "count         25480.00\n",
       "max          319210.27\n",
       "min               2.14\n",
       "mean          74455.81\n",
       "media         70308.21\n",
       "std           52815.94"
      ]
     },
     "execution_count": 18,
     "metadata": {},
     "output_type": "execute_result"
    }
   ],
   "source": [
    "#either you can do appned or directly put values in list\n",
    "wage_count=round(len(visa['prevailing_wage']),2)\n",
    "wage_max=round((visa['prevailing_wage']).max(),2)\n",
    "wage_min=round((visa['prevailing_wage']).min(),2)\n",
    "wage_mean=round((visa['prevailing_wage']).mean(),2)\n",
    "wage_media=round((visa['prevailing_wage']).median(),2)\n",
    "wage_std=round((visa['prevailing_wage']).std(),2)\n",
    "list_values=[wage_count,wage_max,wage_min,wage_mean,wage_media,wage_std]\n",
    "index_val=['count','max','min','mean','media','std']\n",
    "pd.DataFrame(list_values,columns=['prevailing_wage'],index=index_val)\n"
   ]
  },
  {
   "cell_type": "markdown",
   "id": "91490a16-195c-4b0d-ba7f-e4ad662371fd",
   "metadata": {},
   "source": [
    "**percentile and quantile**\n",
    "\n",
    "- percentile\n",
    "    - np.percentile()\n",
    "    - it will take two arguments\n",
    "        - data:a\n",
    "        - percentile:q the values varies 0 to100\n",
    "        - if you want 50p data q=50\n",
    "- quantile\n",
    "    - np.quantile()\n",
    "    - it will take two arguments\n",
    "        - data:a\n",
    "        - quantiletile:q the values varies 0 to1# interviwe question\n",
    "        - if you want 50p q=0.5\n",
    "\n"
   ]
  },
  {
   "cell_type": "markdown",
   "id": "2e5440ec-886b-4e60-80fc-4c3d28809ffe",
   "metadata": {},
   "source": [
    "**25p-50p-75p**"
   ]
  },
  {
   "cell_type": "code",
   "execution_count": 19,
   "id": "2b855e4a-9200-4f41-b793-9b270d680b2e",
   "metadata": {},
   "outputs": [
    {
     "name": "stdout",
     "output_type": "stream",
     "text": [
      "the 25% of data is 34015.48\n",
      "the 50% of data is 70308.21\n",
      "the 75% of data is 107735.51\n"
     ]
    }
   ],
   "source": [
    "wage_25p=round(np.percentile(visa['prevailing_wage'],25),2)\n",
    "wage_50p=round(np.percentile(visa['prevailing_wage'],50),2)\n",
    "wage_75p=round(np.percentile(visa['prevailing_wage'],75),2)\n",
    "print('the 25% of data is',wage_25p)\n",
    "print('the 50% of data is',wage_50p)\n",
    "print('the 75% of data is',wage_75p)\n"
   ]
  },
  {
   "cell_type": "code",
   "execution_count": 20,
   "id": "dc523a51-29f6-46c2-8feb-ec477f0bc069",
   "metadata": {},
   "outputs": [
    {
     "name": "stdout",
     "output_type": "stream",
     "text": [
      "the 25% of data is 34015.48\n",
      "the 50% of data is 70308.21\n",
      "the 75% of data is 107735.51\n"
     ]
    }
   ],
   "source": [
    "wage_25q=round(np.quantile(visa['prevailing_wage'],0.25),2)\n",
    "wage_50q=round(np.quantile(visa['prevailing_wage'],0.50),2)\n",
    "wage_75q=round(np.quantile(visa['prevailing_wage'],0.75),2)\n",
    "print('the 25% of data is',wage_25q)\n",
    "print('the 50% of data is',wage_50q)\n",
    "print('the 75% of data is',wage_75q)\n"
   ]
  },
  {
   "cell_type": "markdown",
   "id": "ec53ac4a-9850-4529-bd8f-5d85aeec2de7",
   "metadata": {},
   "source": [
    "**understand the percentile**\n",
    "- defination 25percentile\n",
    "     - there are 25% of employees has salary less than 34015\n",
    "     - total employees =25480\n",
    "     - 25% of employees= 25*25480/100=6370\n",
    "     - 6370 employees salary less than 34015\n",
    "     - so 25p is showing that 25% of people have less salary than 34015\n"
   ]
  },
  {
   "cell_type": "code",
   "execution_count": 21,
   "id": "71ed50c9-99fc-464b-9412-d3a8885e71e7",
   "metadata": {},
   "outputs": [
    {
     "data": {
      "text/plain": [
       "0           592.2029\n",
       "1         83425.6500\n",
       "2        122996.8600\n",
       "3         83434.0300\n",
       "4        149907.3900\n",
       "            ...     \n",
       "25475     77092.5700\n",
       "25476    279174.7900\n",
       "25477    146298.8500\n",
       "25478     86154.7700\n",
       "25479     70876.9100\n",
       "Name: prevailing_wage, Length: 25480, dtype: float64"
      ]
     },
     "execution_count": 21,
     "metadata": {},
     "output_type": "execute_result"
    }
   ],
   "source": [
    "visa['prevailing_wage']\n",
    "\n",
    "# here less than 34015 salary is 592\n",
    "# now will we see how many people have 592 salary"
   ]
  },
  {
   "cell_type": "code",
   "execution_count": 22,
   "id": "b8459d42-600b-4330-9d96-f30d807e30ad",
   "metadata": {},
   "outputs": [
    {
     "data": {
      "text/html": [
       "<div>\n",
       "<style scoped>\n",
       "    .dataframe tbody tr th:only-of-type {\n",
       "        vertical-align: middle;\n",
       "    }\n",
       "\n",
       "    .dataframe tbody tr th {\n",
       "        vertical-align: top;\n",
       "    }\n",
       "\n",
       "    .dataframe thead th {\n",
       "        text-align: right;\n",
       "    }\n",
       "</style>\n",
       "<table border=\"1\" class=\"dataframe\">\n",
       "  <thead>\n",
       "    <tr style=\"text-align: right;\">\n",
       "      <th></th>\n",
       "      <th>case_id</th>\n",
       "      <th>continent</th>\n",
       "      <th>education_of_employee</th>\n",
       "      <th>has_job_experience</th>\n",
       "      <th>requires_job_training</th>\n",
       "      <th>no_of_employees</th>\n",
       "      <th>yr_of_estab</th>\n",
       "      <th>region_of_employment</th>\n",
       "      <th>prevailing_wage</th>\n",
       "      <th>unit_of_wage</th>\n",
       "      <th>full_time_position</th>\n",
       "      <th>case_status</th>\n",
       "    </tr>\n",
       "  </thead>\n",
       "  <tbody>\n",
       "    <tr>\n",
       "      <th>0</th>\n",
       "      <td>EZYV01</td>\n",
       "      <td>Asia</td>\n",
       "      <td>High School</td>\n",
       "      <td>N</td>\n",
       "      <td>N</td>\n",
       "      <td>14513</td>\n",
       "      <td>2007</td>\n",
       "      <td>West</td>\n",
       "      <td>592.2029</td>\n",
       "      <td>Hour</td>\n",
       "      <td>Y</td>\n",
       "      <td>Denied</td>\n",
       "    </tr>\n",
       "    <tr>\n",
       "      <th>7</th>\n",
       "      <td>EZYV08</td>\n",
       "      <td>North America</td>\n",
       "      <td>Bachelor's</td>\n",
       "      <td>Y</td>\n",
       "      <td>N</td>\n",
       "      <td>3035</td>\n",
       "      <td>1924</td>\n",
       "      <td>West</td>\n",
       "      <td>418.2298</td>\n",
       "      <td>Hour</td>\n",
       "      <td>Y</td>\n",
       "      <td>Denied</td>\n",
       "    </tr>\n",
       "    <tr>\n",
       "      <th>12</th>\n",
       "      <td>EZYV13</td>\n",
       "      <td>Asia</td>\n",
       "      <td>Bachelor's</td>\n",
       "      <td>Y</td>\n",
       "      <td>N</td>\n",
       "      <td>123876</td>\n",
       "      <td>1963</td>\n",
       "      <td>Northeast</td>\n",
       "      <td>28663.0500</td>\n",
       "      <td>Year</td>\n",
       "      <td>Y</td>\n",
       "      <td>Certified</td>\n",
       "    </tr>\n",
       "    <tr>\n",
       "      <th>16</th>\n",
       "      <td>EZYV17</td>\n",
       "      <td>Europe</td>\n",
       "      <td>Master's</td>\n",
       "      <td>Y</td>\n",
       "      <td>N</td>\n",
       "      <td>76638</td>\n",
       "      <td>1991</td>\n",
       "      <td>Midwest</td>\n",
       "      <td>3706.7900</td>\n",
       "      <td>Year</td>\n",
       "      <td>Y</td>\n",
       "      <td>Certified</td>\n",
       "    </tr>\n",
       "    <tr>\n",
       "      <th>17</th>\n",
       "      <td>EZYV18</td>\n",
       "      <td>Asia</td>\n",
       "      <td>Master's</td>\n",
       "      <td>Y</td>\n",
       "      <td>N</td>\n",
       "      <td>2747</td>\n",
       "      <td>2001</td>\n",
       "      <td>West</td>\n",
       "      <td>16132.6100</td>\n",
       "      <td>Year</td>\n",
       "      <td>Y</td>\n",
       "      <td>Certified</td>\n",
       "    </tr>\n",
       "    <tr>\n",
       "      <th>...</th>\n",
       "      <td>...</td>\n",
       "      <td>...</td>\n",
       "      <td>...</td>\n",
       "      <td>...</td>\n",
       "      <td>...</td>\n",
       "      <td>...</td>\n",
       "      <td>...</td>\n",
       "      <td>...</td>\n",
       "      <td>...</td>\n",
       "      <td>...</td>\n",
       "      <td>...</td>\n",
       "      <td>...</td>\n",
       "    </tr>\n",
       "    <tr>\n",
       "      <th>25461</th>\n",
       "      <td>EZYV25462</td>\n",
       "      <td>Asia</td>\n",
       "      <td>Master's</td>\n",
       "      <td>Y</td>\n",
       "      <td>N</td>\n",
       "      <td>2861</td>\n",
       "      <td>2004</td>\n",
       "      <td>West</td>\n",
       "      <td>54.9196</td>\n",
       "      <td>Hour</td>\n",
       "      <td>Y</td>\n",
       "      <td>Denied</td>\n",
       "    </tr>\n",
       "    <tr>\n",
       "      <th>25465</th>\n",
       "      <td>EZYV25466</td>\n",
       "      <td>North America</td>\n",
       "      <td>High School</td>\n",
       "      <td>N</td>\n",
       "      <td>N</td>\n",
       "      <td>2577</td>\n",
       "      <td>1995</td>\n",
       "      <td>South</td>\n",
       "      <td>481.2238</td>\n",
       "      <td>Hour</td>\n",
       "      <td>Y</td>\n",
       "      <td>Certified</td>\n",
       "    </tr>\n",
       "    <tr>\n",
       "      <th>25466</th>\n",
       "      <td>EZYV25467</td>\n",
       "      <td>Europe</td>\n",
       "      <td>Bachelor's</td>\n",
       "      <td>Y</td>\n",
       "      <td>N</td>\n",
       "      <td>1938</td>\n",
       "      <td>2005</td>\n",
       "      <td>West</td>\n",
       "      <td>6973.4000</td>\n",
       "      <td>Year</td>\n",
       "      <td>Y</td>\n",
       "      <td>Denied</td>\n",
       "    </tr>\n",
       "    <tr>\n",
       "      <th>25470</th>\n",
       "      <td>EZYV25471</td>\n",
       "      <td>North America</td>\n",
       "      <td>Master's</td>\n",
       "      <td>Y</td>\n",
       "      <td>N</td>\n",
       "      <td>2272</td>\n",
       "      <td>1970</td>\n",
       "      <td>Northeast</td>\n",
       "      <td>516.4101</td>\n",
       "      <td>Hour</td>\n",
       "      <td>Y</td>\n",
       "      <td>Certified</td>\n",
       "    </tr>\n",
       "    <tr>\n",
       "      <th>25473</th>\n",
       "      <td>EZYV25474</td>\n",
       "      <td>Asia</td>\n",
       "      <td>Bachelor's</td>\n",
       "      <td>Y</td>\n",
       "      <td>N</td>\n",
       "      <td>2421</td>\n",
       "      <td>2007</td>\n",
       "      <td>Northeast</td>\n",
       "      <td>22845.5600</td>\n",
       "      <td>Year</td>\n",
       "      <td>Y</td>\n",
       "      <td>Certified</td>\n",
       "    </tr>\n",
       "  </tbody>\n",
       "</table>\n",
       "<p>6370 rows × 12 columns</p>\n",
       "</div>"
      ],
      "text/plain": [
       "         case_id      continent education_of_employee has_job_experience  \\\n",
       "0         EZYV01           Asia           High School                  N   \n",
       "7         EZYV08  North America            Bachelor's                  Y   \n",
       "12        EZYV13           Asia            Bachelor's                  Y   \n",
       "16        EZYV17         Europe              Master's                  Y   \n",
       "17        EZYV18           Asia              Master's                  Y   \n",
       "...          ...            ...                   ...                ...   \n",
       "25461  EZYV25462           Asia              Master's                  Y   \n",
       "25465  EZYV25466  North America           High School                  N   \n",
       "25466  EZYV25467         Europe            Bachelor's                  Y   \n",
       "25470  EZYV25471  North America              Master's                  Y   \n",
       "25473  EZYV25474           Asia            Bachelor's                  Y   \n",
       "\n",
       "      requires_job_training  no_of_employees  yr_of_estab  \\\n",
       "0                         N            14513         2007   \n",
       "7                         N             3035         1924   \n",
       "12                        N           123876         1963   \n",
       "16                        N            76638         1991   \n",
       "17                        N             2747         2001   \n",
       "...                     ...              ...          ...   \n",
       "25461                     N             2861         2004   \n",
       "25465                     N             2577         1995   \n",
       "25466                     N             1938         2005   \n",
       "25470                     N             2272         1970   \n",
       "25473                     N             2421         2007   \n",
       "\n",
       "      region_of_employment  prevailing_wage unit_of_wage full_time_position  \\\n",
       "0                     West         592.2029         Hour                  Y   \n",
       "7                     West         418.2298         Hour                  Y   \n",
       "12               Northeast       28663.0500         Year                  Y   \n",
       "16                 Midwest        3706.7900         Year                  Y   \n",
       "17                    West       16132.6100         Year                  Y   \n",
       "...                    ...              ...          ...                ...   \n",
       "25461                 West          54.9196         Hour                  Y   \n",
       "25465                South         481.2238         Hour                  Y   \n",
       "25466                 West        6973.4000         Year                  Y   \n",
       "25470            Northeast         516.4101         Hour                  Y   \n",
       "25473            Northeast       22845.5600         Year                  Y   \n",
       "\n",
       "      case_status  \n",
       "0          Denied  \n",
       "7          Denied  \n",
       "12      Certified  \n",
       "16      Certified  \n",
       "17      Certified  \n",
       "...           ...  \n",
       "25461      Denied  \n",
       "25465   Certified  \n",
       "25466      Denied  \n",
       "25470   Certified  \n",
       "25473   Certified  \n",
       "\n",
       "[6370 rows x 12 columns]"
      ]
     },
     "execution_count": 22,
     "metadata": {},
     "output_type": "execute_result"
    }
   ],
   "source": [
    "con=visa['prevailing_wage']<34015\n",
    "visa[con]# these are the people who have salary less than 34015 or have wage of 542\n",
    "# lets see len"
   ]
  },
  {
   "cell_type": "code",
   "execution_count": 40,
   "id": "57c5646c-9ad3-4fb1-bc9f-e798182dcec5",
   "metadata": {},
   "outputs": [
    {
     "data": {
      "text/plain": [
       "6370"
      ]
     },
     "execution_count": 40,
     "metadata": {},
     "output_type": "execute_result"
    }
   ],
   "source": [
    "len(visa[con])# hence proved"
   ]
  },
  {
   "cell_type": "markdown",
   "id": "d340bb27-7580-4807-a6da-08f87a7137e2",
   "metadata": {},
   "source": [
    "**understand the percentile**\n",
    "- defination 50percentile\n",
    "     - there are 50% of employees has salary less than 70380\n",
    "     - total employees =25480\n",
    "     - 50% of employees= 50*25480/100=12740\n",
    "     - 12740employees salary less than 34015\n",
    "     - so 25p is showing that 25% of people have less salary than 70380\n"
   ]
  },
  {
   "cell_type": "code",
   "execution_count": 24,
   "id": "daac79cd-bf20-43ee-9b91-c63cc8c12469",
   "metadata": {},
   "outputs": [
    {
     "data": {
      "text/html": [
       "<div>\n",
       "<style scoped>\n",
       "    .dataframe tbody tr th:only-of-type {\n",
       "        vertical-align: middle;\n",
       "    }\n",
       "\n",
       "    .dataframe tbody tr th {\n",
       "        vertical-align: top;\n",
       "    }\n",
       "\n",
       "    .dataframe thead th {\n",
       "        text-align: right;\n",
       "    }\n",
       "</style>\n",
       "<table border=\"1\" class=\"dataframe\">\n",
       "  <thead>\n",
       "    <tr style=\"text-align: right;\">\n",
       "      <th></th>\n",
       "      <th>case_id</th>\n",
       "      <th>continent</th>\n",
       "      <th>education_of_employee</th>\n",
       "      <th>has_job_experience</th>\n",
       "      <th>requires_job_training</th>\n",
       "      <th>no_of_employees</th>\n",
       "      <th>yr_of_estab</th>\n",
       "      <th>region_of_employment</th>\n",
       "      <th>prevailing_wage</th>\n",
       "      <th>unit_of_wage</th>\n",
       "      <th>full_time_position</th>\n",
       "      <th>case_status</th>\n",
       "    </tr>\n",
       "  </thead>\n",
       "  <tbody>\n",
       "    <tr>\n",
       "      <th>0</th>\n",
       "      <td>EZYV01</td>\n",
       "      <td>Asia</td>\n",
       "      <td>High School</td>\n",
       "      <td>N</td>\n",
       "      <td>N</td>\n",
       "      <td>14513</td>\n",
       "      <td>2007</td>\n",
       "      <td>West</td>\n",
       "      <td>592.2029</td>\n",
       "      <td>Hour</td>\n",
       "      <td>Y</td>\n",
       "      <td>Denied</td>\n",
       "    </tr>\n",
       "    <tr>\n",
       "      <th>6</th>\n",
       "      <td>EZYV07</td>\n",
       "      <td>Asia</td>\n",
       "      <td>Bachelor's</td>\n",
       "      <td>N</td>\n",
       "      <td>N</td>\n",
       "      <td>4985</td>\n",
       "      <td>1994</td>\n",
       "      <td>South</td>\n",
       "      <td>53635.3900</td>\n",
       "      <td>Year</td>\n",
       "      <td>Y</td>\n",
       "      <td>Certified</td>\n",
       "    </tr>\n",
       "    <tr>\n",
       "      <th>7</th>\n",
       "      <td>EZYV08</td>\n",
       "      <td>North America</td>\n",
       "      <td>Bachelor's</td>\n",
       "      <td>Y</td>\n",
       "      <td>N</td>\n",
       "      <td>3035</td>\n",
       "      <td>1924</td>\n",
       "      <td>West</td>\n",
       "      <td>418.2298</td>\n",
       "      <td>Hour</td>\n",
       "      <td>Y</td>\n",
       "      <td>Denied</td>\n",
       "    </tr>\n",
       "    <tr>\n",
       "      <th>9</th>\n",
       "      <td>EZYV10</td>\n",
       "      <td>Europe</td>\n",
       "      <td>Doctorate</td>\n",
       "      <td>Y</td>\n",
       "      <td>N</td>\n",
       "      <td>2251</td>\n",
       "      <td>1995</td>\n",
       "      <td>South</td>\n",
       "      <td>67514.7600</td>\n",
       "      <td>Year</td>\n",
       "      <td>Y</td>\n",
       "      <td>Certified</td>\n",
       "    </tr>\n",
       "    <tr>\n",
       "      <th>12</th>\n",
       "      <td>EZYV13</td>\n",
       "      <td>Asia</td>\n",
       "      <td>Bachelor's</td>\n",
       "      <td>Y</td>\n",
       "      <td>N</td>\n",
       "      <td>123876</td>\n",
       "      <td>1963</td>\n",
       "      <td>Northeast</td>\n",
       "      <td>28663.0500</td>\n",
       "      <td>Year</td>\n",
       "      <td>Y</td>\n",
       "      <td>Certified</td>\n",
       "    </tr>\n",
       "    <tr>\n",
       "      <th>...</th>\n",
       "      <td>...</td>\n",
       "      <td>...</td>\n",
       "      <td>...</td>\n",
       "      <td>...</td>\n",
       "      <td>...</td>\n",
       "      <td>...</td>\n",
       "      <td>...</td>\n",
       "      <td>...</td>\n",
       "      <td>...</td>\n",
       "      <td>...</td>\n",
       "      <td>...</td>\n",
       "      <td>...</td>\n",
       "    </tr>\n",
       "    <tr>\n",
       "      <th>25465</th>\n",
       "      <td>EZYV25466</td>\n",
       "      <td>North America</td>\n",
       "      <td>High School</td>\n",
       "      <td>N</td>\n",
       "      <td>N</td>\n",
       "      <td>2577</td>\n",
       "      <td>1995</td>\n",
       "      <td>South</td>\n",
       "      <td>481.2238</td>\n",
       "      <td>Hour</td>\n",
       "      <td>Y</td>\n",
       "      <td>Certified</td>\n",
       "    </tr>\n",
       "    <tr>\n",
       "      <th>25466</th>\n",
       "      <td>EZYV25467</td>\n",
       "      <td>Europe</td>\n",
       "      <td>Bachelor's</td>\n",
       "      <td>Y</td>\n",
       "      <td>N</td>\n",
       "      <td>1938</td>\n",
       "      <td>2005</td>\n",
       "      <td>West</td>\n",
       "      <td>6973.4000</td>\n",
       "      <td>Year</td>\n",
       "      <td>Y</td>\n",
       "      <td>Denied</td>\n",
       "    </tr>\n",
       "    <tr>\n",
       "      <th>25470</th>\n",
       "      <td>EZYV25471</td>\n",
       "      <td>North America</td>\n",
       "      <td>Master's</td>\n",
       "      <td>Y</td>\n",
       "      <td>N</td>\n",
       "      <td>2272</td>\n",
       "      <td>1970</td>\n",
       "      <td>Northeast</td>\n",
       "      <td>516.4101</td>\n",
       "      <td>Hour</td>\n",
       "      <td>Y</td>\n",
       "      <td>Certified</td>\n",
       "    </tr>\n",
       "    <tr>\n",
       "      <th>25473</th>\n",
       "      <td>EZYV25474</td>\n",
       "      <td>Asia</td>\n",
       "      <td>Bachelor's</td>\n",
       "      <td>Y</td>\n",
       "      <td>N</td>\n",
       "      <td>2421</td>\n",
       "      <td>2007</td>\n",
       "      <td>Northeast</td>\n",
       "      <td>22845.5600</td>\n",
       "      <td>Year</td>\n",
       "      <td>Y</td>\n",
       "      <td>Certified</td>\n",
       "    </tr>\n",
       "    <tr>\n",
       "      <th>25474</th>\n",
       "      <td>EZYV25475</td>\n",
       "      <td>Africa</td>\n",
       "      <td>Doctorate</td>\n",
       "      <td>N</td>\n",
       "      <td>N</td>\n",
       "      <td>2594</td>\n",
       "      <td>1979</td>\n",
       "      <td>Northeast</td>\n",
       "      <td>51104.7800</td>\n",
       "      <td>Year</td>\n",
       "      <td>Y</td>\n",
       "      <td>Certified</td>\n",
       "    </tr>\n",
       "  </tbody>\n",
       "</table>\n",
       "<p>12740 rows × 12 columns</p>\n",
       "</div>"
      ],
      "text/plain": [
       "         case_id      continent education_of_employee has_job_experience  \\\n",
       "0         EZYV01           Asia           High School                  N   \n",
       "6         EZYV07           Asia            Bachelor's                  N   \n",
       "7         EZYV08  North America            Bachelor's                  Y   \n",
       "9         EZYV10         Europe             Doctorate                  Y   \n",
       "12        EZYV13           Asia            Bachelor's                  Y   \n",
       "...          ...            ...                   ...                ...   \n",
       "25465  EZYV25466  North America           High School                  N   \n",
       "25466  EZYV25467         Europe            Bachelor's                  Y   \n",
       "25470  EZYV25471  North America              Master's                  Y   \n",
       "25473  EZYV25474           Asia            Bachelor's                  Y   \n",
       "25474  EZYV25475         Africa             Doctorate                  N   \n",
       "\n",
       "      requires_job_training  no_of_employees  yr_of_estab  \\\n",
       "0                         N            14513         2007   \n",
       "6                         N             4985         1994   \n",
       "7                         N             3035         1924   \n",
       "9                         N             2251         1995   \n",
       "12                        N           123876         1963   \n",
       "...                     ...              ...          ...   \n",
       "25465                     N             2577         1995   \n",
       "25466                     N             1938         2005   \n",
       "25470                     N             2272         1970   \n",
       "25473                     N             2421         2007   \n",
       "25474                     N             2594         1979   \n",
       "\n",
       "      region_of_employment  prevailing_wage unit_of_wage full_time_position  \\\n",
       "0                     West         592.2029         Hour                  Y   \n",
       "6                    South       53635.3900         Year                  Y   \n",
       "7                     West         418.2298         Hour                  Y   \n",
       "9                    South       67514.7600         Year                  Y   \n",
       "12               Northeast       28663.0500         Year                  Y   \n",
       "...                    ...              ...          ...                ...   \n",
       "25465                South         481.2238         Hour                  Y   \n",
       "25466                 West        6973.4000         Year                  Y   \n",
       "25470            Northeast         516.4101         Hour                  Y   \n",
       "25473            Northeast       22845.5600         Year                  Y   \n",
       "25474            Northeast       51104.7800         Year                  Y   \n",
       "\n",
       "      case_status  \n",
       "0          Denied  \n",
       "6       Certified  \n",
       "7          Denied  \n",
       "9       Certified  \n",
       "12      Certified  \n",
       "...           ...  \n",
       "25465   Certified  \n",
       "25466      Denied  \n",
       "25470   Certified  \n",
       "25473   Certified  \n",
       "25474   Certified  \n",
       "\n",
       "[12740 rows x 12 columns]"
      ]
     },
     "execution_count": 24,
     "metadata": {},
     "output_type": "execute_result"
    }
   ],
   "source": [
    "con2=visa['prevailing_wage']<wage_50p\n",
    "visa[con2]"
   ]
  },
  {
   "cell_type": "code",
   "execution_count": 25,
   "id": "62d0ac87-8692-4280-9cd1-c86a2843992d",
   "metadata": {},
   "outputs": [
    {
     "data": {
      "text/plain": [
       "12740"
      ]
     },
     "execution_count": 25,
     "metadata": {},
     "output_type": "execute_result"
    }
   ],
   "source": [
    "len(visa[con2])"
   ]
  },
  {
   "cell_type": "code",
   "execution_count": 26,
   "id": "40a9696e-4579-43e4-902b-4c4eb668c9b4",
   "metadata": {},
   "outputs": [
    {
     "data": {
      "text/plain": [
       "19110"
      ]
     },
     "execution_count": 26,
     "metadata": {},
     "output_type": "execute_result"
    }
   ],
   "source": [
    "con3=visa['prevailing_wage']<107735\n",
    "len(visa[con3])"
   ]
  },
  {
   "cell_type": "markdown",
   "id": "666c23e7-39f7-4d6d-a6c1-f5841b833f65",
   "metadata": {},
   "source": [
    "**empirical rule (68-95-99.7)**\n"
   ]
  },
  {
   "cell_type": "markdown",
   "id": "1e9ce77a-e75a-4638-ad26-25c2e4864fc7",
   "metadata": {},
   "source": [
    "<img id=\"dimg_rQqIZ_hS0ubaug-erPiIBA_21\" src=\"data:image/png;base64,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\" class=\"YQ4gaf\" height=\"184\" style=\"object-position:52% 46%\" width=\"274\" alt=\"Empirical Rule: Definition &amp; Formula ...\" data-csiid=\"rQqIZ_hS0ubaug-erPiIBA_6\" data-atf=\"1\">"
   ]
  },
  {
   "cell_type": "markdown",
   "id": "117b2c1c-8abc-4a99-a750-fa136d46f534",
   "metadata": {},
   "source": [
    "- first calculate mean value\n",
    "- second value find standard deviation\n",
    "- con1= mean-1*std\n",
    "- con2= mean+*std\n",
    "- if you apply above condition on wage plot ,the ouput should be equal to 68percentile data\n",
    "- 68% of total employee:17326"
   ]
  },
  {
   "cell_type": "code",
   "execution_count": 60,
   "id": "c4ba2128-9e40-426a-9765-9b37a794e122",
   "metadata": {},
   "outputs": [
    {
     "data": {
      "text/plain": [
       "(17171, 17326.4)"
      ]
     },
     "execution_count": 60,
     "metadata": {},
     "output_type": "execute_result"
    }
   ],
   "source": [
    "v1=wage_mean-1*wage_std# lowest salary\n",
    "v2=wage_mean+1*wage_std# highest salary under 68% of data\n",
    "con4=visa['prevailing_wage']>v1#employess salary more tha\n",
    "con5=visa['prevailing_wage']<v2# employee salary less than\n",
    "count1=len(visa[con4&con5])#add count the and add the both\n",
    "count1,68*25480/100# print\n",
    "# so 17171 people hav more sary tha v1 and less tha v2"
   ]
  },
  {
   "cell_type": "code",
   "execution_count": 63,
   "id": "c84ff780-a2a3-4f0b-94d3-9f370673d2b9",
   "metadata": {},
   "outputs": [
    {
     "data": {
      "text/plain": [
       "(24582, 24206.0)"
      ]
     },
     "execution_count": 63,
     "metadata": {},
     "output_type": "execute_result"
    }
   ],
   "source": [
    "# how many peole cme under 95% percent \n",
    "v3=wage_mean-2*wage_std\n",
    "v4=wage_mean+2*wage_std\n",
    "con6=visa['prevailing_wage']>v3\n",
    "con7=visa['prevailing_wage']<v4\n",
    "count2=len(visa[con6&con7])\n",
    "count2,95*25480/100"
   ]
  },
  {
   "cell_type": "code",
   "execution_count": 27,
   "id": "43a45d3d-8319-47e8-ba54-7ab47bd505f8",
   "metadata": {},
   "outputs": [
    {
     "data": {
      "text/plain": [
       "(25186, 25403.56)"
      ]
     },
     "execution_count": 27,
     "metadata": {},
     "output_type": "execute_result"
    }
   ],
   "source": [
    "v5=wage_mean-3*wage_std\n",
    "v6=wage_mean+3*wage_std\n",
    "con8=visa['prevailing_wage']>v5\n",
    "con9=visa['prevailing_wage']<v6\n",
    "count3=len(visa[con8&con9])\n",
    "count3,99.7*25480/100"
   ]
  },
  {
   "cell_type": "code",
   "execution_count": 29,
   "id": "ddbb9a54-9642-4d6c-9a9c-89a9a4a60682",
   "metadata": {},
   "outputs": [
    {
     "data": {
      "text/html": [
       "<div>\n",
       "<style scoped>\n",
       "    .dataframe tbody tr th:only-of-type {\n",
       "        vertical-align: middle;\n",
       "    }\n",
       "\n",
       "    .dataframe tbody tr th {\n",
       "        vertical-align: top;\n",
       "    }\n",
       "\n",
       "    .dataframe thead th {\n",
       "        text-align: right;\n",
       "    }\n",
       "</style>\n",
       "<table border=\"1\" class=\"dataframe\">\n",
       "  <thead>\n",
       "    <tr style=\"text-align: right;\">\n",
       "      <th></th>\n",
       "      <th>prevailing_wage</th>\n",
       "    </tr>\n",
       "  </thead>\n",
       "  <tbody>\n",
       "    <tr>\n",
       "      <th>count</th>\n",
       "      <td>25480.00</td>\n",
       "    </tr>\n",
       "    <tr>\n",
       "      <th>max</th>\n",
       "      <td>319210.27</td>\n",
       "    </tr>\n",
       "    <tr>\n",
       "      <th>min</th>\n",
       "      <td>2.14</td>\n",
       "    </tr>\n",
       "    <tr>\n",
       "      <th>mean</th>\n",
       "      <td>74455.81</td>\n",
       "    </tr>\n",
       "    <tr>\n",
       "      <th>media</th>\n",
       "      <td>70308.21</td>\n",
       "    </tr>\n",
       "    <tr>\n",
       "      <th>std</th>\n",
       "      <td>52815.94</td>\n",
       "    </tr>\n",
       "    <tr>\n",
       "      <th>20%</th>\n",
       "      <td>34015.48</td>\n",
       "    </tr>\n",
       "    <tr>\n",
       "      <th>50%</th>\n",
       "      <td>70308.21</td>\n",
       "    </tr>\n",
       "    <tr>\n",
       "      <th>75%</th>\n",
       "      <td>107735.51</td>\n",
       "    </tr>\n",
       "  </tbody>\n",
       "</table>\n",
       "</div>"
      ],
      "text/plain": [
       "       prevailing_wage\n",
       "count         25480.00\n",
       "max          319210.27\n",
       "min               2.14\n",
       "mean          74455.81\n",
       "media         70308.21\n",
       "std           52815.94\n",
       "20%           34015.48\n",
       "50%           70308.21\n",
       "75%          107735.51"
      ]
     },
     "execution_count": 29,
     "metadata": {},
     "output_type": "execute_result"
    }
   ],
   "source": [
    "wage_count=round(len(visa['prevailing_wage']),2)\n",
    "wage_max=round((visa['prevailing_wage']).max(),2)\n",
    "wage_min=round((visa['prevailing_wage']).min(),2)\n",
    "wage_mean=round((visa['prevailing_wage']).mean(),2)\n",
    "wage_media=round((visa['prevailing_wage']).median(),2)\n",
    "wage_std=round((visa['prevailing_wage']).std(),2)\n",
    "#######################################################\n",
    "wage_25q=round(np.quantile(visa['prevailing_wage'],0.25),2)\n",
    "wage_50q=round(np.quantile(visa['prevailing_wage'],0.50),2)\n",
    "wage75q=round(np.quantile(visa['prevailing_wage'],0.75),2)\n",
    "##########################################################\n",
    "list_values=[wage_count,wage_max,wage_min,wage_mean,\n",
    "             wage_media,wage_std,wage_25q,wage_50q,wage_75q]\n",
    "index_val=['count','max','min',\n",
    "           'mean','media','std',\n",
    "          '20%','50%','75%']\n",
    "pd.DataFrame(list_values,columns=['prevailing_wage'],index=index_val)\n"
   ]
  },
  {
   "cell_type": "markdown",
   "id": "ef90c3e6-f755-4fd3-a080-438147a42abc",
   "metadata": {},
   "source": [
    "**no_of_employees**"
   ]
  },
  {
   "cell_type": "code",
   "execution_count": 60,
   "id": "c0c6ce5a-5d4d-4977-8b62-0cbf2222f592",
   "metadata": {},
   "outputs": [
    {
     "data": {
      "text/html": [
       "<div>\n",
       "<style scoped>\n",
       "    .dataframe tbody tr th:only-of-type {\n",
       "        vertical-align: middle;\n",
       "    }\n",
       "\n",
       "    .dataframe tbody tr th {\n",
       "        vertical-align: top;\n",
       "    }\n",
       "\n",
       "    .dataframe thead th {\n",
       "        text-align: right;\n",
       "    }\n",
       "</style>\n",
       "<table border=\"1\" class=\"dataframe\">\n",
       "  <thead>\n",
       "    <tr style=\"text-align: right;\">\n",
       "      <th></th>\n",
       "      <th>no_of_employees</th>\n",
       "      <th>yr_of_estab</th>\n",
       "      <th>prevailing_wage</th>\n",
       "    </tr>\n",
       "  </thead>\n",
       "  <tbody>\n",
       "    <tr>\n",
       "      <th>count</th>\n",
       "      <td>25480.00</td>\n",
       "      <td>25480.00</td>\n",
       "      <td>25480.00</td>\n",
       "    </tr>\n",
       "    <tr>\n",
       "      <th>max</th>\n",
       "      <td>602069.00</td>\n",
       "      <td>2016.00</td>\n",
       "      <td>319210.27</td>\n",
       "    </tr>\n",
       "    <tr>\n",
       "      <th>min</th>\n",
       "      <td>-26.00</td>\n",
       "      <td>1800.00</td>\n",
       "      <td>2.14</td>\n",
       "    </tr>\n",
       "    <tr>\n",
       "      <th>mean</th>\n",
       "      <td>5667.04</td>\n",
       "      <td>1979.41</td>\n",
       "      <td>74455.81</td>\n",
       "    </tr>\n",
       "    <tr>\n",
       "      <th>media</th>\n",
       "      <td>2109.00</td>\n",
       "      <td>1997.00</td>\n",
       "      <td>70308.21</td>\n",
       "    </tr>\n",
       "    <tr>\n",
       "      <th>std</th>\n",
       "      <td>22877.93</td>\n",
       "      <td>42.37</td>\n",
       "      <td>52815.94</td>\n",
       "    </tr>\n",
       "    <tr>\n",
       "      <th>20%</th>\n",
       "      <td>1022.00</td>\n",
       "      <td>1976.00</td>\n",
       "      <td>34015.48</td>\n",
       "    </tr>\n",
       "    <tr>\n",
       "      <th>50%</th>\n",
       "      <td>2109.00</td>\n",
       "      <td>1997.00</td>\n",
       "      <td>70308.21</td>\n",
       "    </tr>\n",
       "    <tr>\n",
       "      <th>75%</th>\n",
       "      <td>3504.00</td>\n",
       "      <td>2005.00</td>\n",
       "      <td>107735.51</td>\n",
       "    </tr>\n",
       "  </tbody>\n",
       "</table>\n",
       "</div>"
      ],
      "text/plain": [
       "       no_of_employees  yr_of_estab  prevailing_wage\n",
       "count         25480.00     25480.00         25480.00\n",
       "max          602069.00      2016.00        319210.27\n",
       "min             -26.00      1800.00             2.14\n",
       "mean           5667.04      1979.41         74455.81\n",
       "media          2109.00      1997.00         70308.21\n",
       "std           22877.93        42.37         52815.94\n",
       "20%            1022.00      1976.00         34015.48\n",
       "50%            2109.00      1997.00         70308.21\n",
       "75%            3504.00      2005.00        107735.51"
      ]
     },
     "execution_count": 60,
     "metadata": {},
     "output_type": "execute_result"
    }
   ],
   "source": [
    "#l1,l2,l3=[],[],[] first do this then run it then you cnaonly write l1=[]\n",
    "l1=[]\n",
    "cols=['no_of_employees','yr_of_estab','prevailing_wage']\n",
    "for i in cols:\n",
    "    count=round(len(visa[i]),2)\n",
    "    max=round((visa[i]).max(),2)\n",
    "    min=round((visa[i]).min(),2)\n",
    "    mean=round((visa[i]).mean(),2)\n",
    "    media=round((visa[i]).median(),2)\n",
    "    std=round((visa[i]).std(),2)\n",
    "    #######################################################\n",
    "    p_25q=round(np.quantile(visa[i],0.25),2)\n",
    "    p_50q=round(np.quantile(visa[i],0.50),2)\n",
    "    p_75q=round(np.quantile(visa[i],0.75),2)\n",
    "    ##########################################################\n",
    "    l1.append([count,max,min,mean,media,std,p_25q,p_50q,p_75q])\n",
    "l1\n",
    "index_val=['count','max','min',\n",
    "               'mean','media','std',\n",
    "              '20%','50%','75%']\n",
    "pd.DataFrame(l1,columns=index_val,index=cols ).T\n",
    "# without t  columns are coming as index and index is coming as columns\n",
    "# it is coming because we wrote it but writhout writing like that\n",
    "# it is coming columns are 3 but data is 9\n",
    "# thst's why exchange the vales ad aigain reverse it\n",
    "#transfrom list :T\n"
   ]
  },
  {
   "cell_type": "code",
   "execution_count": 65,
   "id": "e37793c2-b736-480c-a6c0-4cdfdb4239e0",
   "metadata": {},
   "outputs": [
    {
     "data": {
      "text/html": [
       "<div>\n",
       "<style scoped>\n",
       "    .dataframe tbody tr th:only-of-type {\n",
       "        vertical-align: middle;\n",
       "    }\n",
       "\n",
       "    .dataframe tbody tr th {\n",
       "        vertical-align: top;\n",
       "    }\n",
       "\n",
       "    .dataframe thead th {\n",
       "        text-align: right;\n",
       "    }\n",
       "</style>\n",
       "<table border=\"1\" class=\"dataframe\">\n",
       "  <thead>\n",
       "    <tr style=\"text-align: right;\">\n",
       "      <th></th>\n",
       "      <th>no_of_employees</th>\n",
       "      <th>yr_of_estab</th>\n",
       "      <th>prevailing_wage</th>\n",
       "    </tr>\n",
       "  </thead>\n",
       "  <tbody>\n",
       "    <tr>\n",
       "      <th>count</th>\n",
       "      <td>25480.00</td>\n",
       "      <td>25480.00</td>\n",
       "      <td>25480.00</td>\n",
       "    </tr>\n",
       "    <tr>\n",
       "      <th>max</th>\n",
       "      <td>602069.00</td>\n",
       "      <td>2016.00</td>\n",
       "      <td>319210.27</td>\n",
       "    </tr>\n",
       "    <tr>\n",
       "      <th>min</th>\n",
       "      <td>-26.00</td>\n",
       "      <td>1800.00</td>\n",
       "      <td>2.14</td>\n",
       "    </tr>\n",
       "    <tr>\n",
       "      <th>mean</th>\n",
       "      <td>5667.04</td>\n",
       "      <td>1979.41</td>\n",
       "      <td>74455.81</td>\n",
       "    </tr>\n",
       "    <tr>\n",
       "      <th>median</th>\n",
       "      <td>2109.00</td>\n",
       "      <td>1997.00</td>\n",
       "      <td>70308.21</td>\n",
       "    </tr>\n",
       "    <tr>\n",
       "      <th>std</th>\n",
       "      <td>22877.93</td>\n",
       "      <td>42.37</td>\n",
       "      <td>52815.94</td>\n",
       "    </tr>\n",
       "    <tr>\n",
       "      <th>25%</th>\n",
       "      <td>1022.00</td>\n",
       "      <td>1976.00</td>\n",
       "      <td>34015.48</td>\n",
       "    </tr>\n",
       "    <tr>\n",
       "      <th>50%</th>\n",
       "      <td>2109.00</td>\n",
       "      <td>1997.00</td>\n",
       "      <td>70308.21</td>\n",
       "    </tr>\n",
       "    <tr>\n",
       "      <th>75%</th>\n",
       "      <td>3504.00</td>\n",
       "      <td>2005.00</td>\n",
       "      <td>107735.51</td>\n",
       "    </tr>\n",
       "  </tbody>\n",
       "</table>\n",
       "</div>"
      ],
      "text/plain": [
       "        no_of_employees  yr_of_estab  prevailing_wage\n",
       "count          25480.00     25480.00         25480.00\n",
       "max           602069.00      2016.00        319210.27\n",
       "min              -26.00      1800.00             2.14\n",
       "mean            5667.04      1979.41         74455.81\n",
       "median          2109.00      1997.00         70308.21\n",
       "std            22877.93        42.37         52815.94\n",
       "25%             1022.00      1976.00         34015.48\n",
       "50%             2109.00      1997.00         70308.21\n",
       "75%             3504.00      2005.00        107735.51"
      ]
     },
     "execution_count": 65,
     "metadata": {},
     "output_type": "execute_result"
    }
   ],
   "source": [
    "l1,l2,l3=[],[],[]\n",
    "col=['no_of_employees','yr_of_estab','prevailing_wage']\n",
    "for i in col:\n",
    "    count=round(len(visa[i]),2)\n",
    "    max=round((visa[i].max()),2)\n",
    "    min=round((visa[i].min()),2)\n",
    "    mean=round((visa[i].mean()),2)\n",
    "    median=round((visa[i].median()),2)\n",
    "    std=round((visa[i].std()),2)\n",
    "    p_25p=round(np.quantile(visa[i],0.25),2)\n",
    "    p_50p=round(np.quantile(visa[i],0.50),2)\n",
    "    p_75p=round(np.quantile(visa[i],0.75),2)\n",
    "    l1.append([count,max,min,mean,median,std,p_25p,p_50p,p_75p])\n",
    "l1 \n",
    "index_val=['count','max','min','mean','median','std','25%','50%','75%']\n",
    "df=pd.DataFrame(l1,columns=index_val,index=col).T\n",
    "df"
   ]
  },
  {
   "cell_type": "code",
   "execution_count": 66,
   "id": "7764c855-8dff-454f-81df-ea7d9855727a",
   "metadata": {},
   "outputs": [],
   "source": [
    "# what ever we did till now will increase our python skill"
   ]
  },
  {
   "cell_type": "markdown",
   "id": "3acb79d6-c2eb-4163-b2e9-f5fc5065362b",
   "metadata": {},
   "source": [
    "**Describe**"
   ]
  },
  {
   "cell_type": "code",
   "execution_count": 68,
   "id": "5d56263e-058d-4747-bab5-463fc4012ae4",
   "metadata": {},
   "outputs": [
    {
     "data": {
      "text/html": [
       "<div>\n",
       "<style scoped>\n",
       "    .dataframe tbody tr th:only-of-type {\n",
       "        vertical-align: middle;\n",
       "    }\n",
       "\n",
       "    .dataframe tbody tr th {\n",
       "        vertical-align: top;\n",
       "    }\n",
       "\n",
       "    .dataframe thead th {\n",
       "        text-align: right;\n",
       "    }\n",
       "</style>\n",
       "<table border=\"1\" class=\"dataframe\">\n",
       "  <thead>\n",
       "    <tr style=\"text-align: right;\">\n",
       "      <th></th>\n",
       "      <th>no_of_employees</th>\n",
       "      <th>yr_of_estab</th>\n",
       "      <th>prevailing_wage</th>\n",
       "    </tr>\n",
       "  </thead>\n",
       "  <tbody>\n",
       "    <tr>\n",
       "      <th>count</th>\n",
       "      <td>25480.000000</td>\n",
       "      <td>25480.000000</td>\n",
       "      <td>25480.000000</td>\n",
       "    </tr>\n",
       "    <tr>\n",
       "      <th>mean</th>\n",
       "      <td>5667.043210</td>\n",
       "      <td>1979.409929</td>\n",
       "      <td>74455.814592</td>\n",
       "    </tr>\n",
       "    <tr>\n",
       "      <th>std</th>\n",
       "      <td>22877.928848</td>\n",
       "      <td>42.366929</td>\n",
       "      <td>52815.942327</td>\n",
       "    </tr>\n",
       "    <tr>\n",
       "      <th>min</th>\n",
       "      <td>-26.000000</td>\n",
       "      <td>1800.000000</td>\n",
       "      <td>2.136700</td>\n",
       "    </tr>\n",
       "    <tr>\n",
       "      <th>25%</th>\n",
       "      <td>1022.000000</td>\n",
       "      <td>1976.000000</td>\n",
       "      <td>34015.480000</td>\n",
       "    </tr>\n",
       "    <tr>\n",
       "      <th>50%</th>\n",
       "      <td>2109.000000</td>\n",
       "      <td>1997.000000</td>\n",
       "      <td>70308.210000</td>\n",
       "    </tr>\n",
       "    <tr>\n",
       "      <th>75%</th>\n",
       "      <td>3504.000000</td>\n",
       "      <td>2005.000000</td>\n",
       "      <td>107735.512500</td>\n",
       "    </tr>\n",
       "    <tr>\n",
       "      <th>max</th>\n",
       "      <td>602069.000000</td>\n",
       "      <td>2016.000000</td>\n",
       "      <td>319210.270000</td>\n",
       "    </tr>\n",
       "  </tbody>\n",
       "</table>\n",
       "</div>"
      ],
      "text/plain": [
       "       no_of_employees   yr_of_estab  prevailing_wage\n",
       "count     25480.000000  25480.000000     25480.000000\n",
       "mean       5667.043210   1979.409929     74455.814592\n",
       "std       22877.928848     42.366929     52815.942327\n",
       "min         -26.000000   1800.000000         2.136700\n",
       "25%        1022.000000   1976.000000     34015.480000\n",
       "50%        2109.000000   1997.000000     70308.210000\n",
       "75%        3504.000000   2005.000000    107735.512500\n",
       "max      602069.000000   2016.000000    319210.270000"
      ]
     },
     "execution_count": 68,
     "metadata": {},
     "output_type": "execute_result"
    }
   ],
   "source": [
    "visa.describe()\n"
   ]
  },
  {
   "cell_type": "markdown",
   "id": "f17c0eb0-4707-4389-acd0-deefdcae9594",
   "metadata": {},
   "source": [
    "**Histogram**\n",
    "- histogram can get by matplotlip\n",
    "- histogram can get by seaborn also\n",
    "- plt.hist"
   ]
  },
  {
   "cell_type": "code",
   "execution_count": 74,
   "id": "7c593d63-b919-4f22-abfb-161388afdaaa",
   "metadata": {},
   "outputs": [
    {
     "data": {
      "text/plain": [
       "(array([6038., 5504., 5681., 4551., 2334.,  624.,  373.,  240.,  114.,\n",
       "          21.]),\n",
       " array([2.13670000e+00, 3.19229500e+04, 6.38437634e+04, 9.57645767e+04,\n",
       "        1.27685390e+05, 1.59606203e+05, 1.91527017e+05, 2.23447830e+05,\n",
       "        2.55368643e+05, 2.87289457e+05, 3.19210270e+05]),\n",
       " <BarContainer object of 10 artists>)"
      ]
     },
     "execution_count": 74,
     "metadata": {},
     "output_type": "execute_result"
    },
    {
     "data": {
      "image/png": "[encoded data removed]",
      "text/plain": [
       "<Figure size 640x480 with 1 Axes>"
      ]
     },
     "metadata": {},
     "output_type": "display_data"
    }
   ],
   "source": [
    "import matplotlib.pyplot as  plt\n",
    "plt.hist(visa['prevailing_wage'])\n",
    "\n"
   ]
  },
  {
   "cell_type": "markdown",
   "id": "bf225e69-12f7-408e-aaf4-f27f9dfcebf3",
   "metadata": {},
   "source": [
    "- for intaval range\n",
    "\n",
    "    - 2.13670000000e+00to 3.19229500e+04\n",
    "         - 6038 members have salary\n",
    "    - 3.19229500e+04to 6.38437634e+04\n",
    "        - 5504 memebers have salry \n",
    "\n",
    "- histogram will give three outputs \n",
    "  - frequency \n",
    "     -  in each intervel range how many observation are there\n",
    "   - interval \n",
    "       - interval range\n",
    "    - number of intervals"
   ]
  },
  {
   "cell_type": "markdown",
   "id": "1d3c4d9f-8ff0-4d24-8cb6-bd342e558597",
   "metadata": {},
   "source": [
    "**check point -1**\n"
   ]
  },
  {
   "cell_type": "code",
   "execution_count": 78,
   "id": "1da89d6d-d525-48bc-9ece-d1d5e79ce167",
   "metadata": {},
   "outputs": [
    {
     "data": {
      "text/plain": [
       "(2.1367, 31922.95)"
      ]
     },
     "execution_count": 78,
     "metadata": {},
     "output_type": "execute_result"
    }
   ],
   "source": [
    "2.13670000000e+00, 3.19229500e+04"
   ]
  },
  {
   "cell_type": "code",
   "execution_count": 79,
   "id": "570d1674-cb61-4bbd-8ef9-f14c64e40b77",
   "metadata": {},
   "outputs": [
    {
     "data": {
      "text/plain": [
       "6037"
      ]
     },
     "execution_count": 79,
     "metadata": {},
     "output_type": "execute_result"
    }
   ],
   "source": [
    "con1=visa['prevailing_wage']>2.1367\n",
    "con2=visa['prevailing_wage']<31922.95\n",
    "len(visa[con1&con2])"
   ]
  },
  {
   "cell_type": "markdown",
   "id": "a07136af-35d0-41c5-a1ac-fd3168a251a8",
   "metadata": {},
   "source": [
    "**bins**"
   ]
  },
  {
   "cell_type": "code",
   "execution_count": 81,
   "id": "b206615b-6a8d-4bc2-b59f-a33c176f0c2e",
   "metadata": {},
   "outputs": [
    {
     "name": "stdout",
     "output_type": "stream",
     "text": [
      "<BarContainer object of 20 artists>\n"
     ]
    },
    {
     "data": {
      "image/png": "[encoded data removed]",
      "text/plain": [
       "<Figure size 640x480 with 1 Axes>"
      ]
     },
     "metadata": {},
     "output_type": "display_data"
    }
   ],
   "source": [
    "import matplotlib.pyplot as  plt\n",
    "f,i,n=plt.hist(visa['prevailing_wage'],bins=20)# bins means how many interval we want to give\n",
    "print(n)#histogram five three value we printed number of interval ==20==bins"
   ]
  },
  {
   "cell_type": "code",
   "execution_count": 82,
   "id": "d3fe8fb3-5299-4a8a-8b73-e92ba2c6f8d7",
   "metadata": {},
   "outputs": [
    {
     "data": {
      "image/png": "[encoded data removed]",
      "text/plain": [
       "<Figure size 640x480 with 1 Axes>"
      ]
     },
     "metadata": {},
     "output_type": "display_data"
    }
   ],
   "source": [
    "import matplotlib.pyplot as  plt\n",
    "plt.hist(visa['prevailing_wage'],bins=40)\n",
    "plt.title('histogram')\n",
    "plt.xlable=('class interval')\n",
    "plt.ylabel('count')\n",
    "plt.show()"
   ]
  },
  {
   "cell_type": "code",
   "execution_count": 92,
   "id": "01dd9d30-7612-49af-90e3-0e9f5491e720",
   "metadata": {},
   "outputs": [
    {
     "data": {
      "image/png": "[encoded data removed]",
      "text/plain": [
       "<Figure size 1700x200 with 1 Axes>"
      ]
     },
     "metadata": {},
     "output_type": "display_data"
    },
    {
     "data": {
      "image/png": "[encoded data removed]",
      "text/plain": [
       "<Figure size 1700x200 with 1 Axes>"
      ]
     },
     "metadata": {},
     "output_type": "display_data"
    },
    {
     "data": {
      "image/png": "[encoded data removed]",
      "text/plain": [
       "<Figure size 1700x200 with 1 Axes>"
      ]
     },
     "metadata": {},
     "output_type": "display_data"
    }
   ],
   "source": [
    "import matplotlib.pyplot as  plt\n",
    "plt.figure(figsize=(17,2))\n",
    "plt.subplot(1,3,1)\n",
    "plt.hist(visa['prevailing_wage'],bins=10)\n",
    "plt.title('histogram')\n",
    "plt.xlable=('class interval')\n",
    "plt.ylabel('count')\n",
    "plt.show()\n",
    "\n",
    "plt.figure(figsize=(17,2))\n",
    "plt.subplot(1,3,2)\n",
    "plt.hist(visa['no_of_employees'],bins=10)\n",
    "plt.title('histogram')\n",
    "plt.xlable=('class interval')\n",
    "plt.ylabel('count')\n",
    "plt.show()\n",
    "\n",
    "\n",
    "plt.figure(figsize=(17,2))\n",
    "plt.subplot(1,3,3)\n",
    "plt.hist(visa['yr_of_estab'],bins=10)\n",
    "plt.title('histogram')\n",
    "plt.xlable=('class interval')\n",
    "plt.ylabel('count')\n",
    "plt.show()\n",
    "# i dont want to write this much use for loop"
   ]
  },
  {
   "cell_type": "code",
   "execution_count": 96,
   "id": "8d3e97d6-1c7e-4944-95b4-1c03ee5c50d9",
   "metadata": {},
   "outputs": [
    {
     "data": {
      "image/png": "[encoded data removed]",
      "text/plain": [
       "<Figure size 1800x300 with 1 Axes>"
      ]
     },
     "metadata": {},
     "output_type": "display_data"
    },
    {
     "data": {
      "image/png": "[encoded data removed]",
      "text/plain": [
       "<Figure size 640x480 with 1 Axes>"
      ]
     },
     "metadata": {},
     "output_type": "display_data"
    },
    {
     "data": {
      "image/png": "[encoded data removed]",
      "text/plain": [
       "<Figure size 640x480 with 1 Axes>"
      ]
     },
     "metadata": {},
     "output_type": "display_data"
    }
   ],
   "source": [
    "plt.figure(figsize=(18,3))\n",
    "for i in range(len(cols)):\n",
    "    plt.subplot(1,len(cols),i+1)\n",
    "    plt.hist(visa[cols[i]],bins=10)\n",
    "    plt.title(f'histogram of {cols[i]}')\n",
    "    plt.xlable=('class interval')\n",
    "    plt.ylabel('count')\n",
    "    plt.show()\n",
    "# advantage of sunplot is  all plots in one place"
   ]
  },
  {
   "cell_type": "markdown",
   "id": "248a83d0-9d61-4d5e-b8a6-1f22ab5e6fe5",
   "metadata": {},
   "source": [
    "**histogram by using seaborn**\n",
    "- histplot\n",
    "- distplot"
   ]
  },
  {
   "cell_type": "code",
   "execution_count": 98,
   "id": "f5b12702-cad0-4b01-a906-3c3f5fd6b75a",
   "metadata": {},
   "outputs": [
    {
     "name": "stderr",
     "output_type": "stream",
     "text": [
      "C:\\Users\\user\\anaconda3\\Lib\\site-packages\\seaborn\\_oldcore.py:1119: FutureWarning: use_inf_as_na option is deprecated and will be removed in a future version. Convert inf values to NaN before operating instead.\n",
      "  with pd.option_context('mode.use_inf_as_na', True):\n"
     ]
    },
    {
     "data": {
      "text/plain": [
       "<Axes: xlabel='prevailing_wage', ylabel='Count'>"
      ]
     },
     "execution_count": 98,
     "metadata": {},
     "output_type": "execute_result"
    },
    {
     "data": {
      "image/png": "[encoded data removed]",
      "text/plain": [
       "<Figure size 640x480 with 1 Axes>"
      ]
     },
     "metadata": {},
     "output_type": "display_data"
    }
   ],
   "source": [
    "import seaborn as sns\n",
    "sns.histplot(visa['prevailing_wage'])\n",
    "\n",
    "    # so histogram\n"
   ]
  },
  {
   "cell_type": "code",
   "execution_count": 101,
   "id": "0d5f9a1e-0fa5-403b-a151-233e013d036a",
   "metadata": {},
   "outputs": [
    {
     "data": {
      "text/plain": [
       "<Axes: xlabel='prevailing_wage', ylabel='Density'>"
      ]
     },
     "execution_count": 101,
     "metadata": {},
     "output_type": "execute_result"
    },
    {
     "data": {
      "image/png": "[encoded data removed]",
      "text/plain": [
       "<Figure size 640x480 with 1 Axes>"
      ]
     },
     "metadata": {},
     "output_type": "display_data"
    }
   ],
   "source": [
    "sns.distplot(visa['prevailing_wage'])# show distribution plot"
   ]
  },
  {
   "cell_type": "code",
   "execution_count": 100,
   "id": "a5c09c44-cf8f-48b8-bc5f-f0085fc58645",
   "metadata": {},
   "outputs": [
    {
     "data": {
      "text/plain": [
       "<Axes: xlabel='prevailing_wage', ylabel='Density'>"
      ]
     },
     "execution_count": 100,
     "metadata": {},
     "output_type": "execute_result"
    },
    {
     "data": {
      "image/png": "[encoded data removed]",
      "text/plain": [
       "<Figure size 640x480 with 1 Axes>"
      ]
     },
     "metadata": {},
     "output_type": "display_data"
    }
   ],
   "source": [
    "# so above showing don't use dist plot just use hist plot or warnings are showing \n",
    "# so to remove warnings \n",
    "import warnings\n",
    "warnings.filterwarnings('ignore')\n",
    "\n",
    "sns.distplot(visa['prevailing_wage'])# see warnings are removed"
   ]
  },
  {
   "cell_type": "code",
   "execution_count": 102,
   "id": "daf7f95b-b6b1-4abb-a15a-d0f702dc334b",
   "metadata": {},
   "outputs": [
    {
     "data": {
      "image/png": "[encoded data removed]",
      "text/plain": [
       "<Figure size 1800x300 with 1 Axes>"
      ]
     },
     "metadata": {},
     "output_type": "display_data"
    },
    {
     "data": {
      "image/png": "[encoded data removed]",
      "text/plain": [
       "<Figure size 640x480 with 1 Axes>"
      ]
     },
     "metadata": {},
     "output_type": "display_data"
    },
    {
     "data": {
      "image/png": "[encoded data removed]",
      "text/plain": [
       "<Figure size 640x480 with 1 Axes>"
      ]
     },
     "metadata": {},
     "output_type": "display_data"
    }
   ],
   "source": [
    "plt.figure(figsize=(18,3))\n",
    "for i in range(len(cols)):\n",
    "    plt.subplot(1,len(cols),i+1)\n",
    "    sns.histplot(visa[cols[i]],bins=10)\n",
    "    plt.title(f'histogram of {cols[i]}')\n",
    "    plt.xlable=('class interval')\n",
    "    plt.ylabel('count')\n",
    "    plt.show()\n",
    "# advantage of sunplot is  all plots in one place"
   ]
  },
  {
   "cell_type": "code",
   "execution_count": null,
   "id": "c1c5b2a9-d19b-4940-b933-689c79a2f004",
   "metadata": {},
   "outputs": [],
   "source": []
  }
 ],
 "metadata": {
  "kernelspec": {
   "display_name": "Python 3 (ipykernel)",
   "language": "python",
   "name": "python3"
  },
  "language_info": {
   "codemirror_mode": {
    "name": "ipython",
    "version": 3
   },
   "file_extension": ".py",
   "mimetype": "text/x-python",
   "name": "python",
   "nbconvert_exporter": "python",
   "pygments_lexer": "ipython3",
   "version": "3.11.7"
  }
 },
 "nbformat": 4,
 "nbformat_minor": 5
}
